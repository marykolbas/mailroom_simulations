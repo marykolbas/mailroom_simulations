{
 "cells": [
  {
   "cell_type": "code",
   "execution_count": 2,
   "id": "d423766d-61bb-4384-af4d-2effb474a4fe",
   "metadata": {},
   "outputs": [],
   "source": [
    "import pandas as pd\n",
    "import datetime\n",
    "import seaborn as sns\n",
    "import numpy as np"
   ]
  },
  {
   "cell_type": "code",
   "execution_count": 10,
   "id": "68395a05-d833-4637-80fc-12c7517fda1e",
   "metadata": {},
   "outputs": [
    {
     "name": "stderr",
     "output_type": "stream",
     "text": [
      "C:\\Users\\mkolb\\AppData\\Local\\Temp\\ipykernel_3452\\3120406117.py:5: SettingWithCopyWarning: \n",
      "A value is trying to be set on a copy of a slice from a DataFrame.\n",
      "Try using .loc[row_indexer,col_indexer] = value instead\n",
      "\n",
      "See the caveats in the documentation: https://pandas.pydata.org/pandas-docs/stable/user_guide/indexing.html#returning-a-view-versus-a-copy\n",
      "  parcels_withIssueDate[['Issue Date Only', 'Issue Time Only']] = (parcels_withIssueDate['Issue Date'].str.split(\" \", n=1, expand=True))\n",
      "C:\\Users\\mkolb\\AppData\\Local\\Temp\\ipykernel_3452\\3120406117.py:5: SettingWithCopyWarning: \n",
      "A value is trying to be set on a copy of a slice from a DataFrame.\n",
      "Try using .loc[row_indexer,col_indexer] = value instead\n",
      "\n",
      "See the caveats in the documentation: https://pandas.pydata.org/pandas-docs/stable/user_guide/indexing.html#returning-a-view-versus-a-copy\n",
      "  parcels_withIssueDate[['Issue Date Only', 'Issue Time Only']] = (parcels_withIssueDate['Issue Date'].str.split(\" \", n=1, expand=True))\n",
      "C:\\Users\\mkolb\\AppData\\Local\\Temp\\ipykernel_3452\\3120406117.py:6: SettingWithCopyWarning: \n",
      "A value is trying to be set on a copy of a slice from a DataFrame.\n",
      "Try using .loc[row_indexer,col_indexer] = value instead\n",
      "\n",
      "See the caveats in the documentation: https://pandas.pydata.org/pandas-docs/stable/user_guide/indexing.html#returning-a-view-versus-a-copy\n",
      "  parcels_withIssueDate[['Receipt Date Only', 'Receipt Time Only']] = (parcels_withIssueDate['Receipt Date'].str.split(\" \", n=1, expand=True))\n",
      "C:\\Users\\mkolb\\AppData\\Local\\Temp\\ipykernel_3452\\3120406117.py:6: SettingWithCopyWarning: \n",
      "A value is trying to be set on a copy of a slice from a DataFrame.\n",
      "Try using .loc[row_indexer,col_indexer] = value instead\n",
      "\n",
      "See the caveats in the documentation: https://pandas.pydata.org/pandas-docs/stable/user_guide/indexing.html#returning-a-view-versus-a-copy\n",
      "  parcels_withIssueDate[['Receipt Date Only', 'Receipt Time Only']] = (parcels_withIssueDate['Receipt Date'].str.split(\" \", n=1, expand=True))\n"
     ]
    }
   ],
   "source": [
    "parcels = pd.read_csv('Parcel_Report_June_23_22_10_31_23.csv')\n",
    "parcels = parcels[parcels['Mail Room Description 3'] == 'North Campus Service Center']\n",
    "parcels_withIssueDate = parcels[parcels['Issue Date'].notnull()]\n",
    "\n",
    "parcels_withIssueDate[['Issue Date Only', 'Issue Time Only']] = (parcels_withIssueDate['Issue Date'].str.split(\" \", n=1, expand=True)) \n",
    "parcels_withIssueDate[['Receipt Date Only', 'Receipt Time Only']] = (parcels_withIssueDate['Receipt Date'].str.split(\" \", n=1, expand=True)) "
   ]
  },
  {
   "cell_type": "code",
   "execution_count": 11,
   "id": "c05fe8e3-a6f9-4843-be51-f6006fa1b516",
   "metadata": {},
   "outputs": [
    {
     "name": "stderr",
     "output_type": "stream",
     "text": [
      "C:\\Users\\mkolb\\AppData\\Local\\Temp\\ipykernel_3452\\3081506634.py:4: UserWarning: Could not infer format, so each element will be parsed individually, falling back to `dateutil`. To ensure parsing is consistent and as-expected, please specify a format.\n",
      "  parcels_withIssueDate['Issue Date Only']= pd.to_datetime(parcels_withIssueDate['Issue Date Only'])\n",
      "C:\\Users\\mkolb\\AppData\\Local\\Temp\\ipykernel_3452\\3081506634.py:5: UserWarning: Could not infer format, so each element will be parsed individually, falling back to `dateutil`. To ensure parsing is consistent and as-expected, please specify a format.\n",
      "  parcels_withIssueDate['Receipt Date Only']= pd.to_datetime(parcels_withIssueDate['Receipt Date Only'])\n"
     ]
    }
   ],
   "source": [
    "parcels_withIssueDate = parcels_withIssueDate.drop(columns=['Issue Time Only', 'Receipt Time Only'])\n",
    "# parcels_withIssueDate['Issue Date Only'].to_list()\n",
    "# pd.to_datetime(parcels_withIssueDate['Issue Date Only'], format='%m/%d/%Y')\n",
    "parcels_withIssueDate['Issue Date Only']= pd.to_datetime(parcels_withIssueDate['Issue Date Only'])\n",
    "parcels_withIssueDate['Receipt Date Only']= pd.to_datetime(parcels_withIssueDate['Receipt Date Only'])\n",
    "\n",
    "# remove all packages prior to Aug\n",
    "parcels_withIssueDate = parcels_withIssueDate[parcels_withIssueDate['Receipt Date Only'] > datetime.datetime(2023, 7, 31)]"
   ]
  },
  {
   "cell_type": "code",
   "execution_count": 12,
   "id": "80301060-46a2-40e2-8145-87de20048a4e",
   "metadata": {},
   "outputs": [],
   "source": [
    "parcels_withIssueDate['days_until_pickup'] = parcels_withIssueDate['Issue Date Only'] - parcels_withIssueDate['Receipt Date Only']"
   ]
  },
  {
   "cell_type": "code",
   "execution_count": 13,
   "id": "abba8912-1f7b-4b15-b7fd-4a7218354430",
   "metadata": {},
   "outputs": [],
   "source": [
    "days_until_pickup_counts = parcels_withIssueDate['days_until_pickup'].value_counts()\n",
    "days_until_pickup_counts.index = days_until_pickup_counts.index.astype('timedelta64[s]').astype('int64')/86400"
   ]
  },
  {
   "cell_type": "code",
   "execution_count": 14,
   "id": "1e668c6a-7daa-4456-bfe4-b61c22581988",
   "metadata": {},
   "outputs": [
    {
     "data": {
      "text/plain": [
       "days_until_pickup\n",
       "0.0     0.399835\n",
       "1.0     0.287816\n",
       "2.0     0.118745\n",
       "3.0     0.065164\n",
       "4.0     0.041314\n",
       "5.0     0.026674\n",
       "6.0     0.017788\n",
       "7.0     0.010972\n",
       "8.0     0.006187\n",
       "9.0     0.004299\n",
       "11.0    0.002842\n",
       "10.0    0.002734\n",
       "12.0    0.002212\n",
       "13.0    0.001871\n",
       "14.0    0.001547\n",
       "15.0    0.001079\n",
       "16.0    0.000935\n",
       "20.0    0.000827\n",
       "18.0    0.000719\n",
       "17.0    0.000683\n",
       "19.0    0.000612\n",
       "23.0    0.000414\n",
       "22.0    0.000414\n",
       "25.0    0.000414\n",
       "21.0    0.000378\n",
       "26.0    0.000306\n",
       "35.0    0.000306\n",
       "31.0    0.000252\n",
       "27.0    0.000252\n",
       "33.0    0.000234\n",
       "28.0    0.000234\n",
       "24.0    0.000234\n",
       "30.0    0.000198\n",
       "29.0    0.000180\n",
       "32.0    0.000162\n",
       "34.0    0.000108\n",
       "38.0    0.000090\n",
       "36.0    0.000090\n",
       "42.0    0.000072\n",
       "46.0    0.000072\n",
       "41.0    0.000072\n",
       "37.0    0.000072\n",
       "43.0    0.000054\n",
       "60.0    0.000054\n",
       "64.0    0.000054\n",
       "45.0    0.000054\n",
       "54.0    0.000054\n",
       "47.0    0.000036\n",
       "48.0    0.000036\n",
       "70.0    0.000036\n",
       "73.0    0.000036\n",
       "40.0    0.000036\n",
       "63.0    0.000018\n",
       "67.0    0.000018\n",
       "58.0    0.000018\n",
       "57.0    0.000018\n",
       "39.0    0.000018\n",
       "53.0    0.000018\n",
       "68.0    0.000018\n",
       "52.0    0.000018\n",
       "Name: count, dtype: float64"
      ]
     },
     "execution_count": 14,
     "metadata": {},
     "output_type": "execute_result"
    }
   ],
   "source": [
    "days_until_pickup_counts = days_until_pickup_counts/days_until_pickup_counts.sum()\n",
    "days_until_pickup_counts"
   ]
  },
  {
   "cell_type": "code",
   "execution_count": 15,
   "id": "848f43b6-a242-46c2-a0ad-d0c37c21c401",
   "metadata": {},
   "outputs": [],
   "source": [
    "days_until_pickup_counts.to_csv(\"pickup_dist.csv\")"
   ]
  },
  {
   "cell_type": "code",
   "execution_count": 16,
   "id": "a20eabb7-a397-4431-bb7d-123d7acefbd0",
   "metadata": {},
   "outputs": [
    {
     "name": "stdout",
     "output_type": "stream",
     "text": [
      "y= 0.4152799363165631 * e^( -0.5422029594704607 *x) + 0.00012958474219183427\n"
     ]
    },
    {
     "data": {
      "image/png": "[encoded data removed]",
      "text/plain": [
       "<Figure size 640x480 with 1 Axes>"
      ]
     },
     "metadata": {},
     "output_type": "display_data"
    }
   ],
   "source": [
    "import matplotlib.pyplot as plt\n",
    "\n",
    "fig, ax = plt.subplots()\n",
    "x = days_until_pickup_counts.index\n",
    "y = days_until_pickup_counts.values\n",
    "ax.bar(x, y)\n",
    "ax.set_xlabel('number of days until pickup')\n",
    "ax.set_ylabel('count')\n",
    "\n",
    "\n",
    "from scipy.optimize import curve_fit\n",
    "\n",
    "def exponential_func(x, a, b, c):\n",
    "    return a * np.exp(-b * x) + c\n",
    "\n",
    "# Fit the exponential function to the data\n",
    "popt, pcov = curve_fit(exponential_func, x, y)\n",
    "\n",
    "# Plot the bar chart\n",
    "plt.bar(x, y, label='Data')\n",
    "\n",
    "# Plot the exponential curve\n",
    "x_fit = np.linspace(min(x), max(x), 100)  # Generate x values for the curve\n",
    "plt.plot(x_fit, exponential_func(x_fit, *popt), color='red', label='Exponential Fit')\n",
    "\n",
    "# Extract coefficients\n",
    "a, b, c = popt\n",
    "\n",
    "# Print coefficients\n",
    "# print(\"Coefficient a:\", a)\n",
    "# print(\"Coefficient b:\", b)\n",
    "# print(\"Coefficient c:\", c)\n",
    "print(\"y=\", a, \"* e^(\", -b, \"*x) +\", c)"
   ]
  },
  {
   "cell_type": "code",
   "execution_count": 17,
   "id": "ebfebd81-e563-477f-ab00-1e14a9159c33",
   "metadata": {},
   "outputs": [
    {
     "name": "stderr",
     "output_type": "stream",
     "text": [
      "C:\\Users\\mkolb\\AppData\\Local\\Temp\\ipykernel_3452\\3084546888.py:4: SettingWithCopyWarning: \n",
      "A value is trying to be set on a copy of a slice from a DataFrame.\n",
      "Try using .loc[row_indexer,col_indexer] = value instead\n",
      "\n",
      "See the caveats in the documentation: https://pandas.pydata.org/pandas-docs/stable/user_guide/indexing.html#returning-a-view-versus-a-copy\n",
      "  parcels_withReceiptDate[['Receipt Date Only', 'Receipt Time Only']] = (parcels_withReceiptDate['Receipt Date'].str.split(\" \", n=1, expand=True))\n",
      "C:\\Users\\mkolb\\AppData\\Local\\Temp\\ipykernel_3452\\3084546888.py:4: SettingWithCopyWarning: \n",
      "A value is trying to be set on a copy of a slice from a DataFrame.\n",
      "Try using .loc[row_indexer,col_indexer] = value instead\n",
      "\n",
      "See the caveats in the documentation: https://pandas.pydata.org/pandas-docs/stable/user_guide/indexing.html#returning-a-view-versus-a-copy\n",
      "  parcels_withReceiptDate[['Receipt Date Only', 'Receipt Time Only']] = (parcels_withReceiptDate['Receipt Date'].str.split(\" \", n=1, expand=True))\n",
      "C:\\Users\\mkolb\\AppData\\Local\\Temp\\ipykernel_3452\\3084546888.py:7: UserWarning: Could not infer format, so each element will be parsed individually, falling back to `dateutil`. To ensure parsing is consistent and as-expected, please specify a format.\n",
      "  parcels_withReceiptDate['Receipt Date Only']= pd.to_datetime(parcels_withReceiptDate['Receipt Date Only'])\n"
     ]
    }
   ],
   "source": [
    "parcels = pd.read_csv('Parcel_Report_June_23_22_10_31_23.csv')\n",
    "parcels = parcels[parcels['Mail Room Description 3'] == 'North Campus Service Center']\n",
    "parcels_withReceiptDate = parcels[parcels['Issue Date'].notnull()]\n",
    "parcels_withReceiptDate[['Receipt Date Only', 'Receipt Time Only']] = (parcels_withReceiptDate['Receipt Date'].str.split(\" \", n=1, expand=True))\n",
    "parcels_withReceiptDate = parcels_withReceiptDate.drop(columns=['Receipt Time Only'])\n",
    "\n",
    "parcels_withReceiptDate['Receipt Date Only']= pd.to_datetime(parcels_withReceiptDate['Receipt Date Only'])\n",
    "parcels_withReceiptDate = parcels_withReceiptDate[parcels_withReceiptDate['Receipt Date Only'] > datetime.datetime(2023, 7, 31)]"
   ]
  },
  {
   "cell_type": "code",
   "execution_count": 18,
   "id": "047dd275-aeee-42fd-81f7-3b90438d3a00",
   "metadata": {},
   "outputs": [
    {
     "data": {
      "text/html": [
       "<div>\n",
       "<style scoped>\n",
       "    .dataframe tbody tr th:only-of-type {\n",
       "        vertical-align: middle;\n",
       "    }\n",
       "\n",
       "    .dataframe tbody tr th {\n",
       "        vertical-align: top;\n",
       "    }\n",
       "\n",
       "    .dataframe thead th {\n",
       "        text-align: right;\n",
       "    }\n",
       "</style>\n",
       "<table border=\"1\" class=\"dataframe\">\n",
       "  <thead>\n",
       "    <tr style=\"text-align: right;\">\n",
       "      <th></th>\n",
       "      <th>Parcel Type Description 1</th>\n",
       "      <th>Shipping Type Description</th>\n",
       "      <th>Parcel Status Description 2</th>\n",
       "      <th>Issue Date</th>\n",
       "      <th>Receipt Date</th>\n",
       "      <th>Entry Parcel ID</th>\n",
       "      <th>Processor NetID</th>\n",
       "      <th>Mail Room Description 3</th>\n",
       "      <th>Description 4</th>\n",
       "      <th>Receipt Date Only</th>\n",
       "    </tr>\n",
       "  </thead>\n",
       "  <tbody>\n",
       "    <tr>\n",
       "      <th>4753</th>\n",
       "      <td>Package</td>\n",
       "      <td>USPS</td>\n",
       "      <td>Issued</td>\n",
       "      <td>8/2/23 12:05</td>\n",
       "      <td>8/1/23 8:23</td>\n",
       "      <td>1865697</td>\n",
       "      <td>NaN</td>\n",
       "      <td>North Campus Service Center</td>\n",
       "      <td>pr-br</td>\n",
       "      <td>2023-08-01</td>\n",
       "    </tr>\n",
       "    <tr>\n",
       "      <th>4754</th>\n",
       "      <td>Package</td>\n",
       "      <td>USPS</td>\n",
       "      <td>Issued</td>\n",
       "      <td>8/2/23 12:05</td>\n",
       "      <td>8/1/23 8:26</td>\n",
       "      <td>1865698</td>\n",
       "      <td>NaN</td>\n",
       "      <td>North Campus Service Center</td>\n",
       "      <td>br</td>\n",
       "      <td>2023-08-01</td>\n",
       "    </tr>\n",
       "    <tr>\n",
       "      <th>4755</th>\n",
       "      <td>Package</td>\n",
       "      <td>USPS</td>\n",
       "      <td>Issued</td>\n",
       "      <td>8/2/23 12:05</td>\n",
       "      <td>8/1/23 8:28</td>\n",
       "      <td>1865699</td>\n",
       "      <td>NaN</td>\n",
       "      <td>North Campus Service Center</td>\n",
       "      <td>br</td>\n",
       "      <td>2023-08-01</td>\n",
       "    </tr>\n",
       "    <tr>\n",
       "      <th>4756</th>\n",
       "      <td>Package</td>\n",
       "      <td>(Please Select Type)</td>\n",
       "      <td>Issued</td>\n",
       "      <td>8/2/23 12:05</td>\n",
       "      <td>8/1/23 8:29</td>\n",
       "      <td>1865700</td>\n",
       "      <td>NaN</td>\n",
       "      <td>North Campus Service Center</td>\n",
       "      <td>br</td>\n",
       "      <td>2023-08-01</td>\n",
       "    </tr>\n",
       "    <tr>\n",
       "      <th>4757</th>\n",
       "      <td>(Select from List)</td>\n",
       "      <td>USPS</td>\n",
       "      <td>Issued</td>\n",
       "      <td>8/2/23 12:05</td>\n",
       "      <td>8/1/23 8:32</td>\n",
       "      <td>1865701</td>\n",
       "      <td>NaN</td>\n",
       "      <td>North Campus Service Center</td>\n",
       "      <td>br</td>\n",
       "      <td>2023-08-01</td>\n",
       "    </tr>\n",
       "    <tr>\n",
       "      <th>...</th>\n",
       "      <td>...</td>\n",
       "      <td>...</td>\n",
       "      <td>...</td>\n",
       "      <td>...</td>\n",
       "      <td>...</td>\n",
       "      <td>...</td>\n",
       "      <td>...</td>\n",
       "      <td>...</td>\n",
       "      <td>...</td>\n",
       "      <td>...</td>\n",
       "    </tr>\n",
       "    <tr>\n",
       "      <th>94957</th>\n",
       "      <td>Envelope</td>\n",
       "      <td>USPS</td>\n",
       "      <td>Issued</td>\n",
       "      <td>10/31/23 21:42</td>\n",
       "      <td>10/31/23 20:35</td>\n",
       "      <td>1956090</td>\n",
       "      <td>NaN</td>\n",
       "      <td>North Campus Service Center</td>\n",
       "      <td>e</td>\n",
       "      <td>2023-10-31</td>\n",
       "    </tr>\n",
       "    <tr>\n",
       "      <th>94961</th>\n",
       "      <td>Envelope</td>\n",
       "      <td>USPS</td>\n",
       "      <td>Issued</td>\n",
       "      <td>10/31/23 20:46</td>\n",
       "      <td>10/31/23 20:38</td>\n",
       "      <td>1956093</td>\n",
       "      <td>NaN</td>\n",
       "      <td>North Campus Service Center</td>\n",
       "      <td>e</td>\n",
       "      <td>2023-10-31</td>\n",
       "    </tr>\n",
       "    <tr>\n",
       "      <th>94963</th>\n",
       "      <td>Envelope</td>\n",
       "      <td>USPS</td>\n",
       "      <td>Issued</td>\n",
       "      <td>10/31/23 21:06</td>\n",
       "      <td>10/31/23 20:39</td>\n",
       "      <td>1956094</td>\n",
       "      <td>NaN</td>\n",
       "      <td>North Campus Service Center</td>\n",
       "      <td>e</td>\n",
       "      <td>2023-10-31</td>\n",
       "    </tr>\n",
       "    <tr>\n",
       "      <th>94968</th>\n",
       "      <td>Envelope</td>\n",
       "      <td>Misc. Shipper</td>\n",
       "      <td>Issued</td>\n",
       "      <td>10/31/23 21:16</td>\n",
       "      <td>10/31/23 20:43</td>\n",
       "      <td>1956100</td>\n",
       "      <td>NaN</td>\n",
       "      <td>North Campus Service Center</td>\n",
       "      <td>e</td>\n",
       "      <td>2023-10-31</td>\n",
       "    </tr>\n",
       "    <tr>\n",
       "      <th>94972</th>\n",
       "      <td>Envelope</td>\n",
       "      <td>USPS</td>\n",
       "      <td>Issued</td>\n",
       "      <td>10/31/23 21:22</td>\n",
       "      <td>10/31/23 20:46</td>\n",
       "      <td>1956105</td>\n",
       "      <td>NaN</td>\n",
       "      <td>North Campus Service Center</td>\n",
       "      <td>e</td>\n",
       "      <td>2023-10-31</td>\n",
       "    </tr>\n",
       "  </tbody>\n",
       "</table>\n",
       "<p>55598 rows × 10 columns</p>\n",
       "</div>"
      ],
      "text/plain": [
       "      Parcel Type Description 1 Shipping Type Description  \\\n",
       "4753                    Package                      USPS   \n",
       "4754                    Package                      USPS   \n",
       "4755                    Package                      USPS   \n",
       "4756                    Package      (Please Select Type)   \n",
       "4757         (Select from List)                      USPS   \n",
       "...                         ...                       ...   \n",
       "94957                  Envelope                      USPS   \n",
       "94961                  Envelope                      USPS   \n",
       "94963                  Envelope                      USPS   \n",
       "94968                  Envelope             Misc. Shipper   \n",
       "94972                  Envelope                      USPS   \n",
       "\n",
       "      Parcel Status Description 2      Issue Date    Receipt Date  \\\n",
       "4753                       Issued    8/2/23 12:05     8/1/23 8:23   \n",
       "4754                       Issued    8/2/23 12:05     8/1/23 8:26   \n",
       "4755                       Issued    8/2/23 12:05     8/1/23 8:28   \n",
       "4756                       Issued    8/2/23 12:05     8/1/23 8:29   \n",
       "4757                       Issued    8/2/23 12:05     8/1/23 8:32   \n",
       "...                           ...             ...             ...   \n",
       "94957                      Issued  10/31/23 21:42  10/31/23 20:35   \n",
       "94961                      Issued  10/31/23 20:46  10/31/23 20:38   \n",
       "94963                      Issued  10/31/23 21:06  10/31/23 20:39   \n",
       "94968                      Issued  10/31/23 21:16  10/31/23 20:43   \n",
       "94972                      Issued  10/31/23 21:22  10/31/23 20:46   \n",
       "\n",
       "       Entry Parcel ID Processor NetID      Mail Room Description 3  \\\n",
       "4753           1865697             NaN  North Campus Service Center   \n",
       "4754           1865698             NaN  North Campus Service Center   \n",
       "4755           1865699             NaN  North Campus Service Center   \n",
       "4756           1865700             NaN  North Campus Service Center   \n",
       "4757           1865701             NaN  North Campus Service Center   \n",
       "...                ...             ...                          ...   \n",
       "94957          1956090             NaN  North Campus Service Center   \n",
       "94961          1956093             NaN  North Campus Service Center   \n",
       "94963          1956094             NaN  North Campus Service Center   \n",
       "94968          1956100             NaN  North Campus Service Center   \n",
       "94972          1956105             NaN  North Campus Service Center   \n",
       "\n",
       "      Description 4 Receipt Date Only  \n",
       "4753          pr-br        2023-08-01  \n",
       "4754             br        2023-08-01  \n",
       "4755             br        2023-08-01  \n",
       "4756             br        2023-08-01  \n",
       "4757             br        2023-08-01  \n",
       "...             ...               ...  \n",
       "94957             e        2023-10-31  \n",
       "94961             e        2023-10-31  \n",
       "94963             e        2023-10-31  \n",
       "94968             e        2023-10-31  \n",
       "94972             e        2023-10-31  \n",
       "\n",
       "[55598 rows x 10 columns]"
      ]
     },
     "execution_count": 18,
     "metadata": {},
     "output_type": "execute_result"
    }
   ],
   "source": [
    "parcels_withReceiptDate"
   ]
  },
  {
   "cell_type": "code",
   "execution_count": 19,
   "id": "f1dc8fb8-4fb6-488f-ba24-57a6011084a9",
   "metadata": {},
   "outputs": [],
   "source": [
    "arrival_counts = parcels_withReceiptDate['Receipt Date Only'].value_counts()\n",
    "arrival_counts = arrival_counts.sort_index()\n",
    "arrival_counts_edited = arrival_counts.reset_index()\n",
    "arrival_counts_edited = arrival_counts_edited.drop(columns=['Receipt Date Only'])"
   ]
  },
  {
   "cell_type": "code",
   "execution_count": 20,
   "id": "38f96907-2849-4252-9f3e-4f07c0873f0e",
   "metadata": {},
   "outputs": [
    {
     "data": {
      "text/plain": [
       "poly1d([-1.07225126e-05,  2.39449219e-03, -1.82826068e-01,  5.16182726e+00,\n",
       "       -2.11213891e+01,  7.56298424e+01])"
      ]
     },
     "execution_count": 20,
     "metadata": {},
     "output_type": "execute_result"
    },
    {
     "data": {
      "image/png": "[encoded data removed]",
      "text/plain": [
       "<Figure size 640x480 with 1 Axes>"
      ]
     },
     "metadata": {},
     "output_type": "display_data"
    }
   ],
   "source": [
    "import matplotlib.pyplot as plt\n",
    "from scipy.optimize import curve_fit\n",
    "\n",
    "\n",
    "fig, ax = plt.subplots()\n",
    "x = arrival_counts_edited.index\n",
    "y = np.concatenate(arrival_counts_edited.values)\n",
    "ax.bar(x, y)\n",
    "ax.set_xlabel('arrival date')\n",
    "ax.set_ylabel('count')\n",
    "\n",
    "\n",
    "\n",
    "# Plot the bar chart\n",
    "plt.bar(x, y, label='Data')\n",
    "\n",
    "model = np.poly1d(np.polyfit(x, y, 5))\n",
    "polyline = np.linspace(0, 90, 1500)\n",
    "plt.plot(polyline, model(polyline))\n",
    "\n",
    "model"
   ]
  },
  {
   "cell_type": "code",
   "execution_count": 21,
   "id": "efdac3ad-0114-41ab-8ffb-59eeaa9bd045",
   "metadata": {},
   "outputs": [
    {
     "data": {
      "text/plain": [
       "poly1d([ 5.79972387e-03, -1.02398354e+00,  5.41198810e+01, -1.20694985e+02])"
      ]
     },
     "execution_count": 21,
     "metadata": {},
     "output_type": "execute_result"
    },
    {
     "data": {
      "image/png": "[encoded data removed]",
      "text/plain": [
       "<Figure size 640x480 with 1 Axes>"
      ]
     },
     "metadata": {},
     "output_type": "display_data"
    }
   ],
   "source": [
    "fig, ax = plt.subplots()\n",
    "x = arrival_counts_edited.index\n",
    "y = np.concatenate(arrival_counts_edited.values)\n",
    "ax.bar(x, y)\n",
    "ax.set_xlabel('arrival date')\n",
    "ax.set_ylabel('count')\n",
    "\n",
    "\n",
    "\n",
    "# Plot the bar chart\n",
    "plt.bar(x, y, label='Data')\n",
    "\n",
    "model = np.poly1d(np.polyfit(x, y, 3))\n",
    "polyline = np.linspace(0, 90, 1500)\n",
    "plt.plot(polyline, model(polyline))\n",
    "\n",
    "model"
   ]
  },
  {
   "cell_type": "code",
   "execution_count": 22,
   "id": "e0d5297e-3dc9-4203-a99a-10b33b812565",
   "metadata": {},
   "outputs": [
    {
     "data": {
      "text/plain": [
       "Description 4\n",
       "e                             10940\n",
       "E                              9804\n",
       "PR                             8413\n",
       "s                              5163\n",
       "pr                             5101\n",
       "                              ...  \n",
       "PR-XL                             1\n",
       "e-xl                              1\n",
       "pr- big                           1\n",
       "pr-tube                           1\n",
       "hbh-floor -brown box #0713        1\n",
       "Name: count, Length: 438, dtype: int64"
      ]
     },
     "execution_count": 22,
     "metadata": {},
     "output_type": "execute_result"
    }
   ],
   "source": [
    "parcels['Description 4'].value_counts()"
   ]
  },
  {
   "cell_type": "code",
   "execution_count": 25,
   "id": "cd6a7f60-0a6c-4bd6-9f45-09893211bbe2",
   "metadata": {},
   "outputs": [],
   "source": [
    "arrival_counts_edited.to_csv('arrival_counts_edited.csv')"
   ]
  },
  {
   "cell_type": "code",
   "execution_count": 26,
   "id": "a61c9aff-2768-4f56-9430-df531eccb29c",
   "metadata": {},
   "outputs": [
    {
     "data": {
      "text/html": [
       "<div>\n",
       "<style scoped>\n",
       "    .dataframe tbody tr th:only-of-type {\n",
       "        vertical-align: middle;\n",
       "    }\n",
       "\n",
       "    .dataframe tbody tr th {\n",
       "        vertical-align: top;\n",
       "    }\n",
       "\n",
       "    .dataframe thead th {\n",
       "        text-align: right;\n",
       "    }\n",
       "</style>\n",
       "<table border=\"1\" class=\"dataframe\">\n",
       "  <thead>\n",
       "    <tr style=\"text-align: right;\">\n",
       "      <th></th>\n",
       "      <th>count</th>\n",
       "    </tr>\n",
       "  </thead>\n",
       "  <tbody>\n",
       "    <tr>\n",
       "      <th>0</th>\n",
       "      <td>86</td>\n",
       "    </tr>\n",
       "    <tr>\n",
       "      <th>1</th>\n",
       "      <td>50</td>\n",
       "    </tr>\n",
       "    <tr>\n",
       "      <th>2</th>\n",
       "      <td>75</td>\n",
       "    </tr>\n",
       "    <tr>\n",
       "      <th>3</th>\n",
       "      <td>73</td>\n",
       "    </tr>\n",
       "    <tr>\n",
       "      <th>4</th>\n",
       "      <td>45</td>\n",
       "    </tr>\n",
       "    <tr>\n",
       "      <th>...</th>\n",
       "      <td>...</td>\n",
       "    </tr>\n",
       "    <tr>\n",
       "      <th>87</th>\n",
       "      <td>780</td>\n",
       "    </tr>\n",
       "    <tr>\n",
       "      <th>88</th>\n",
       "      <td>630</td>\n",
       "    </tr>\n",
       "    <tr>\n",
       "      <th>89</th>\n",
       "      <td>557</td>\n",
       "    </tr>\n",
       "    <tr>\n",
       "      <th>90</th>\n",
       "      <td>540</td>\n",
       "    </tr>\n",
       "    <tr>\n",
       "      <th>91</th>\n",
       "      <td>263</td>\n",
       "    </tr>\n",
       "  </tbody>\n",
       "</table>\n",
       "<p>92 rows × 1 columns</p>\n",
       "</div>"
      ],
      "text/plain": [
       "    count\n",
       "0      86\n",
       "1      50\n",
       "2      75\n",
       "3      73\n",
       "4      45\n",
       "..    ...\n",
       "87    780\n",
       "88    630\n",
       "89    557\n",
       "90    540\n",
       "91    263\n",
       "\n",
       "[92 rows x 1 columns]"
      ]
     },
     "execution_count": 26,
     "metadata": {},
     "output_type": "execute_result"
    }
   ],
   "source": [
    "arrival_counts_edited"
   ]
  },
  {
   "cell_type": "markdown",
   "id": "082cb6af-ae07-4ce4-9838-02c3166f3217",
   "metadata": {},
   "source": [
    "## returned package distribution"
   ]
  },
  {
   "cell_type": "code",
   "execution_count": 10,
   "id": "eb5c8a05-03d5-4ff0-9d37-a58778db1720",
   "metadata": {},
   "outputs": [
    {
     "name": "stderr",
     "output_type": "stream",
     "text": [
      "C:\\Users\\mkolb\\AppData\\Local\\Temp\\ipykernel_31632\\2784122060.py:4: UserWarning: Could not infer format, so each element will be parsed individually, falling back to `dateutil`. To ensure parsing is consistent and as-expected, please specify a format.\n",
      "  parcels['Receipt Date Only']= pd.to_datetime(parcels['Receipt Date Only'])\n"
     ]
    }
   ],
   "source": [
    "parcels = pd.read_csv('Parcel_Report_June_23_22_10_31_23.csv')\n",
    "parcels = parcels[parcels['Mail Room Description 3'] == 'North Campus Service Center']\n",
    "parcels[['Receipt Date Only', 'Receipt Time Only']] = (parcels['Receipt Date'].str.split(\" \", n=1, expand=True)) \n",
    "parcels['Receipt Date Only']= pd.to_datetime(parcels['Receipt Date Only'])\n",
    "parcels = parcels[parcels['Receipt Date Only'] > datetime.datetime(2023, 7, 31)]"
   ]
  },
  {
   "cell_type": "code",
   "execution_count": 13,
   "id": "24a51f03-78cf-45df-bbe5-e48b3916f82c",
   "metadata": {},
   "outputs": [],
   "source": [
    "returned_packages = parcels[parcels['Parcel Status Description 2']=='Returned']"
   ]
  },
  {
   "cell_type": "code",
   "execution_count": 15,
   "id": "942882bb-5368-4ed8-abaa-bdbef14cf628",
   "metadata": {},
   "outputs": [],
   "source": [
    "import matplotlib.pyplot as plt"
   ]
  },
  {
   "cell_type": "code",
   "execution_count": 37,
   "id": "d5736f5d-03e6-40f9-a2eb-0de274a1d118",
   "metadata": {},
   "outputs": [],
   "source": [
    "grouped_returned_packages = returned_packages[['Receipt Date Only','Parcel Status Description 2']].groupby('Receipt Date Only').count()"
   ]
  },
  {
   "cell_type": "code",
   "execution_count": 40,
   "id": "a0bb78fa-705f-4137-8502-30f00b035bc5",
   "metadata": {},
   "outputs": [
    {
     "data": {
      "image/png": "[encoded data removed]",
      "text/plain": [
       "<Figure size 640x480 with 1 Axes>"
      ]
     },
     "metadata": {},
     "output_type": "display_data"
    }
   ],
   "source": [
    "plt.bar(grouped_returned_packages.index, grouped_returned_packages['Parcel Status Description 2'])\n",
    "plt.xticks(rotation=90)\n",
    "plt.xlabel(\"date\")\n",
    "plt.ylabel(\"number of packages returned\")\n",
    "plt.title(\"Parcel Report Distribution of Returned Packages\")\n",
    "plt.show()"
   ]
  },
  {
   "cell_type": "code",
   "execution_count": null,
   "id": "7cd9ce24-d7de-419b-ade7-0ed6a09d9a7b",
   "metadata": {},
   "outputs": [],
   "source": []
  }
 ],
 "metadata": {
  "kernelspec": {
   "display_name": "Python 3 (ipykernel)",
   "language": "python",
   "name": "python3"
  },
  "language_info": {
   "codemirror_mode": {
    "name": "ipython",
    "version": 3
   },
   "file_extension": ".py",
   "mimetype": "text/x-python",
   "name": "python",
   "nbconvert_exporter": "python",
   "pygments_lexer": "ipython3",
   "version": "3.8.18"
  }
 },
 "nbformat": 4,
 "nbformat_minor": 5
}
