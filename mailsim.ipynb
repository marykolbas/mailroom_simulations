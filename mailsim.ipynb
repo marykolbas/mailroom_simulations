{
 "cells": [
  {
   "cell_type": "code",
   "execution_count": 93,
   "id": "13ba8d11-88a6-4904-880b-7fd5b6d4ad0b",
   "metadata": {},
   "outputs": [],
   "source": [
    "#defining the classes Package, Bin and Student\n",
    "\n",
    "class Package:\n",
    "    def __init__(self, id, bin, location_in_bin, size, student):\n",
    "        self.id = id\n",
    "        self.size = size\n",
    "        self.student = student  #student object\n",
    "        self.letter = student.lastname_letter\n",
    "        self.bin = bin\n",
    "        self.location_in_bin = location_in_bin\n",
    "        \n",
    "    def getID(self):\n",
    "        return self.id\n",
    "\n",
    "    def getSize(self):\n",
    "        return self.size\n",
    "    \n",
    "    def getLetter(self):\n",
    "        return self.letter\n",
    "    \n",
    "    def getBin(self):\n",
    "        return self.bin\n",
    "\n",
    "    def getStudent(self):\n",
    "        return self.student\n",
    "\n",
    "    # going to be used to modify Package when something is removed from its bin\n",
    "    def setLocation(self, value):\n",
    "        self.location_in_bin = value\n",
    "    \n",
    "    def __str__(self):\n",
    "        return f\"packageID: {self.id} | size = {self.size} | bin = {self.bin}, {self.location_in_bin}\"\n",
    "\n",
    "    \n",
    "class Bin:\n",
    "    packages = []\n",
    "    def __init__(self,label):\n",
    "        self.label = label\n",
    "    \n",
    "    def addPackage(self,package):\n",
    "        self.packages.append(package)\n",
    "    \n",
    "    def removePackage(self,package):\n",
    "        self.packages.remove(package)\n",
    "    \n",
    "    def getPackages(self):\n",
    "        return self.packages\n",
    "\n",
    "    def getNumPackages(self):\n",
    "        return len(self.packages)\n",
    "\n",
    "    def __str__(self):\n",
    "        return f\"binID: {self.label}\"\n",
    "\n",
    "class Student: \n",
    "    def __init__(self,id,lastname_letter):\n",
    "        self.id = id\n",
    "        self.lastname_letter = lastname_letter.upper()\n",
    "    def __str__(self):\n",
    "        return f\"studentID: {self.id} | {self.lastname_letter}\""
   ]
  },
  {
   "cell_type": "code",
   "execution_count": 94,
   "id": "cfd0fa15-38bc-4e99-a6f2-a254fe967656",
   "metadata": {},
   "outputs": [
    {
     "name": "stdout",
     "output_type": "stream",
     "text": [
      "studentID: 0 | L\n",
      "packageID: 0 | size = small | bin = 0, 0\n"
     ]
    }
   ],
   "source": [
    "# create student\n",
    "test_student = Student(0, \"L\")\n",
    "print(test_student)\n",
    "\n",
    "# create bins\n",
    "bins = []\n",
    "for i in range(10):\n",
    "    bins.append(Bin(i))\n",
    "\n",
    "bins[0].getNumPackages()\n",
    "\n",
    "#create package with id=0, put it in bin j=0\n",
    "j = 0\n",
    "test_package = Package(0, j, bins[j].getNumPackages(), 'small', test_student)\n",
    "print(test_package)"
   ]
  },
  {
   "cell_type": "code",
   "execution_count": 95,
   "id": "76947a94-be19-4314-b296-4edeac4144da",
   "metadata": {},
   "outputs": [],
   "source": [
    "import pandas as pd\n",
    "import numpy as np"
   ]
  },
  {
   "cell_type": "code",
   "execution_count": 96,
   "id": "e74ddbc9-eeb0-49bf-816c-2f9bada8fe8b",
   "metadata": {},
   "outputs": [
    {
     "data": {
      "text/html": [
       "<div>\n",
       "<style scoped>\n",
       "    .dataframe tbody tr th:only-of-type {\n",
       "        vertical-align: middle;\n",
       "    }\n",
       "\n",
       "    .dataframe tbody tr th {\n",
       "        vertical-align: top;\n",
       "    }\n",
       "\n",
       "    .dataframe thead th {\n",
       "        text-align: right;\n",
       "    }\n",
       "</style>\n",
       "<table border=\"1\" class=\"dataframe\">\n",
       "  <thead>\n",
       "    <tr style=\"text-align: right;\">\n",
       "      <th></th>\n",
       "      <th>Letter</th>\n",
       "      <th>People</th>\n",
       "      <th>Percentage</th>\n",
       "    </tr>\n",
       "  </thead>\n",
       "  <tbody>\n",
       "    <tr>\n",
       "      <th>0</th>\n",
       "      <td>M</td>\n",
       "      <td>25,610,240</td>\n",
       "      <td>0.096</td>\n",
       "    </tr>\n",
       "    <tr>\n",
       "      <th>1</th>\n",
       "      <td>S</td>\n",
       "      <td>25,056,728</td>\n",
       "      <td>0.094</td>\n",
       "    </tr>\n",
       "    <tr>\n",
       "      <th>2</th>\n",
       "      <td>B</td>\n",
       "      <td>22,587,641</td>\n",
       "      <td>0.085</td>\n",
       "    </tr>\n",
       "    <tr>\n",
       "      <th>3</th>\n",
       "      <td>C</td>\n",
       "      <td>20,582,563</td>\n",
       "      <td>0.077</td>\n",
       "    </tr>\n",
       "    <tr>\n",
       "      <th>4</th>\n",
       "      <td>H</td>\n",
       "      <td>18,810,320</td>\n",
       "      <td>0.071</td>\n",
       "    </tr>\n",
       "  </tbody>\n",
       "</table>\n",
       "</div>"
      ],
      "text/plain": [
       "  Letter      People  Percentage\n",
       "0      M  25,610,240       0.096\n",
       "1      S  25,056,728       0.094\n",
       "2      B  22,587,641       0.085\n",
       "3      C  20,582,563       0.077\n",
       "4      H  18,810,320       0.071"
      ]
     },
     "execution_count": 96,
     "metadata": {},
     "output_type": "execute_result"
    }
   ],
   "source": [
    "df = pd.read_csv('lastnames.csv')\n",
    "df['Percentage'] = df['Percentage']*0.01\n",
    "df.head()"
   ]
  },
  {
   "cell_type": "code",
   "execution_count": 97,
   "id": "e6f9e7ee-b958-4c0b-a3f0-be8f14f070c1",
   "metadata": {},
   "outputs": [],
   "source": [
    "def runLastNameSimulation(packagesize_dist, lastname_dist, num_bins, num_packages):\n",
    "    # for now, packagesize_dist is not implemented.\n",
    "    # lastname will be implemented (but isn't rn) \n",
    "    \n",
    "    all_bins = [] #to store all the bins of this simulation\n",
    "    #splits the alphabet into bins\n",
    "    alpha_bin_names = np.array_split(list('ABCDEFGHIJKLMNOPQRSTUVWXYZ'), num_bins)\n",
    "    #creates bins based on alphabet\n",
    "    for name in alpha_bin_names:\n",
    "       all_bins.append(Bin(str(name)))\n",
    "    \n",
    "    all_packages = [] #to store all the packages of this simulation\n",
    "    all_students = [] #to store all the students of this simulation\n",
    "    for i in range(num_packages):\n",
    "        #randomly get the lastnameletter from the distribution \n",
    "        # WORK IN PROGRESS, FOR NOW, CONSTANT --------------------------------------------------------------------------COME BACK TO\n",
    "        letter = 'M'\n",
    "\n",
    "        #make the student \n",
    "        all_students.append(Student(i, letter))\n",
    "\n",
    "        #determine which bin it goes in\n",
    "        for j in range(num_bins):\n",
    "            if letter in alpha_bin_names[j]:\n",
    "                bin_to_go_in = j #this returns the bin's index number in the all_bins list \n",
    "\n",
    "        #finally, make the package object\n",
    "        package = (Package(i, bin_to_go_in, all_bins[bin_to_go_in].getNumPackages(), 'small', all_students[i]))\n",
    "        all_packages.append(package)\n",
    "        \n",
    "        #update the bin so it knows it has a new package\n",
    "        all_bins[bin_to_go_in].addPackage(package)\n",
    "\n",
    "#print where the packages were assigned to!\n",
    "    for p in all_packages:\n",
    "        print(p)\n",
    "\n"
   ]
  },
  {
   "cell_type": "code",
   "execution_count": 98,
   "id": "d2603c71-9307-4245-8857-75703030ef37",
   "metadata": {},
   "outputs": [
    {
     "name": "stdout",
     "output_type": "stream",
     "text": [
      "packageID: 0 | size = small | bin = 4, 0\n",
      "packageID: 1 | size = small | bin = 4, 1\n",
      "packageID: 2 | size = small | bin = 4, 2\n",
      "packageID: 3 | size = small | bin = 4, 3\n",
      "packageID: 4 | size = small | bin = 4, 4\n"
     ]
    }
   ],
   "source": [
    "runLastNameSimulation('test', 'test', 10, 5)"
   ]
  },
  {
   "cell_type": "code",
   "execution_count": null,
   "id": "1a1a0ea0-f239-4f7b-ac0c-7b1cbcc2417b",
   "metadata": {},
   "outputs": [],
   "source": []
  },
  {
   "cell_type": "code",
   "execution_count": null,
   "id": "cdfd7ed8-c27c-4b9c-ac5d-d6d9f379f2ab",
   "metadata": {},
   "outputs": [],
   "source": []
  }
 ],
 "metadata": {
  "kernelspec": {
   "display_name": "Python 3 (ipykernel)",
   "language": "python",
   "name": "python3"
  },
  "language_info": {
   "codemirror_mode": {
    "name": "ipython",
    "version": 3
   },
   "file_extension": ".py",
   "mimetype": "text/x-python",
   "name": "python",
   "nbconvert_exporter": "python",
   "pygments_lexer": "ipython3",
   "version": "3.8.18"
  }
 },
 "nbformat": 4,
 "nbformat_minor": 5
}
