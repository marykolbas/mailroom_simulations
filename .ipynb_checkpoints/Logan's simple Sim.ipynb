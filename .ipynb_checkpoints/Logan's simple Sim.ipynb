{
 "cells": [
  {
   "cell_type": "code",
   "execution_count": 15,
   "id": "13ba8d11-88a6-4904-880b-7fd5b6d4ad0b",
   "metadata": {},
   "outputs": [],
   "source": [
    "#defining the classes Package, Bin and Student\n",
    "\n",
    "class Package:\n",
    "    def __init__(self, id, bin, size, student):\n",
    "        self.id = id\n",
    "        self.size = size\n",
    "        self.student = student  #student object\n",
    "        self.letter = student.lastname_letter\n",
    "        self.bin = bin\n",
    "        self.bin.addPackage(self)\n",
    "        self.location_in_bin = self.bin.getPackages().index(self)\n",
    "        \n",
    "    def getID(self):\n",
    "        return self.id\n",
    "\n",
    "    def getSize(self):\n",
    "        return self.size\n",
    "    \n",
    "    def getLetter(self):\n",
    "        return self.letter\n",
    "    \n",
    "    def getBin(self):\n",
    "        return self.bin\n",
    "\n",
    "    def getStudent(self):\n",
    "        return self.student\n",
    "\n",
    "    def getLocation(self):\n",
    "        return self.location_in_bin\n",
    "\n",
    "    # going to be used to modify Package when something is removed from its bin\n",
    "    def setLocation(self, value):\n",
    "        self.location_in_bin = value\n",
    "    \n",
    "    def __str__(self):\n",
    "        return f\"packageID: {self.id} {self.letter} | size = {self.size} | bin = {self.bin}, position {self.location_in_bin}\"\n",
    "\n",
    "    \n",
    "class Bin:\n",
    "    def __init__(self,label):\n",
    "        self.label = label\n",
    "        self.packages = []\n",
    "    \n",
    "    def addPackage(self,package):\n",
    "        self.packages.append(package)\n",
    "    \n",
    "    def removePackage(self,package):\n",
    "        self.packages.remove(package)\n",
    "\n",
    "    def getLabel(self):\n",
    "        return self.label\n",
    "    \n",
    "    def getPackages(self):\n",
    "        return self.packages\n",
    "\n",
    "    def getNumPackages(self):\n",
    "        return len(self.packages)\n",
    "\n",
    "    def __str__(self):\n",
    "        return f\"binID: {self.label}\"\n",
    "\n",
    "class Student: \n",
    "    def __init__(self,id,lastname_letter):\n",
    "        self.id = id\n",
    "        self.lastname_letter = lastname_letter.upper()\n",
    "\n",
    "    def getID(self):\n",
    "        return self.id\n",
    "\n",
    "    def getLetter(self):\n",
    "        return self.lastname_letter\n",
    "        \n",
    "    def __str__(self):\n",
    "        return f\"studentID: {self.id} | {self.lastname_letter}\""
   ]
  },
  {
   "cell_type": "code",
   "execution_count": 68,
   "id": "cfd0fa15-38bc-4e99-a6f2-a254fe967656",
   "metadata": {},
   "outputs": [
    {
     "name": "stdout",
     "output_type": "stream",
     "text": [
      "studentID: 0 | L\n",
      "packageID: 0 L | size = small | bin = binID: L, position 0\n"
     ]
    }
   ],
   "source": [
    "# create student\n",
    "test_student = Student(0, \"L\")\n",
    "print(test_student)\n",
    "\n",
    "alphabet = 'ABCDEFGHIJKLMNOPQRSTUVWXYZ'\n",
    "\n",
    "# create bins\n",
    "bins = {}\n",
    "for i in range(26):\n",
    "    bins.setdefault(alphabet[i],Bin(alphabet[i]))\n",
    "    # print(bins.get(alphabet[i]))\n",
    "\n",
    "# bins.get(\"A\").getNumPackages()\n",
    "\n",
    "#create package with id=0, put it in bin L\n",
    "test_package = Package(0,bins.get(\"L\"), 'small', test_student)\n",
    "print(test_package)\n",
    "# for b in bins:\n",
    "    # print(b)\n"
   ]
  },
  {
   "cell_type": "code",
   "execution_count": 4,
   "id": "76947a94-be19-4314-b296-4edeac4144da",
   "metadata": {},
   "outputs": [],
   "source": [
    "import pandas as pd\n",
    "import numpy as np\n",
    "import random as random"
   ]
  },
  {
   "cell_type": "code",
   "execution_count": 5,
   "id": "e74ddbc9-eeb0-49bf-816c-2f9bada8fe8b",
   "metadata": {},
   "outputs": [
    {
     "data": {
      "text/html": [
       "<div>\n",
       "<style scoped>\n",
       "    .dataframe tbody tr th:only-of-type {\n",
       "        vertical-align: middle;\n",
       "    }\n",
       "\n",
       "    .dataframe tbody tr th {\n",
       "        vertical-align: top;\n",
       "    }\n",
       "\n",
       "    .dataframe thead th {\n",
       "        text-align: right;\n",
       "    }\n",
       "</style>\n",
       "<table border=\"1\" class=\"dataframe\">\n",
       "  <thead>\n",
       "    <tr style=\"text-align: right;\">\n",
       "      <th></th>\n",
       "      <th>Letter</th>\n",
       "      <th>Probability</th>\n",
       "    </tr>\n",
       "  </thead>\n",
       "  <tbody>\n",
       "    <tr>\n",
       "      <th>0</th>\n",
       "      <td>M</td>\n",
       "      <td>0.096154</td>\n",
       "    </tr>\n",
       "    <tr>\n",
       "      <th>1</th>\n",
       "      <td>S</td>\n",
       "      <td>0.094151</td>\n",
       "    </tr>\n",
       "    <tr>\n",
       "      <th>2</th>\n",
       "      <td>B</td>\n",
       "      <td>0.085136</td>\n",
       "    </tr>\n",
       "    <tr>\n",
       "      <th>3</th>\n",
       "      <td>C</td>\n",
       "      <td>0.077123</td>\n",
       "    </tr>\n",
       "    <tr>\n",
       "      <th>4</th>\n",
       "      <td>H</td>\n",
       "      <td>0.071114</td>\n",
       "    </tr>\n",
       "  </tbody>\n",
       "</table>\n",
       "</div>"
      ],
      "text/plain": [
       "  Letter  Probability\n",
       "0      M     0.096154\n",
       "1      S     0.094151\n",
       "2      B     0.085136\n",
       "3      C     0.077123\n",
       "4      H     0.071114"
      ]
     },
     "execution_count": 5,
     "metadata": {},
     "output_type": "execute_result"
    }
   ],
   "source": [
    "df = pd.read_csv('lastnames.csv')\n",
    "df['Percentage'] = df['Percentage']*0.01\n",
    "total_probability = df['Percentage'].sum()\n",
    "df [\"Probability\"] = df['Percentage']/total_probability\n",
    "lastname_distribution = df[['Letter','Probability']]\n",
    "lastname_distribution.head()"
   ]
  },
  {
   "cell_type": "code",
   "execution_count": 6,
   "id": "71be2217-4819-48ac-ae18-c5aa30fc6179",
   "metadata": {},
   "outputs": [],
   "source": [
    "def select_lastname_based_on_distribution(df):\n",
    "    rand_val = random.random()\n",
    "    cumulative_prob = 0\n",
    "    for index, row in df.iterrows():\n",
    "        cumulative_prob += row['Probability']\n",
    "        if rand_val <= cumulative_prob:\n",
    "            return row['Letter']"
   ]
  },
  {
   "cell_type": "code",
   "execution_count": 50,
   "id": "cfc4d9c2",
   "metadata": {},
   "outputs": [],
   "source": [
    "#create students\n",
    "students = []\n",
    "for i in range(1600):\n",
    "    students.append(Student(i,select_lastname_based_on_distribution(lastname_distribution)))\n",
    "    \n",
    "\n",
    "#create packages\n",
    "packages = []\n",
    "id = 0\n",
    "for s in students:\n",
    "    # print(s)\n",
    "    num = random.randrange(4)\n",
    "    for j in range(num):\n",
    "        packages.append(Package(id,bins.get(s.getLetter()),\"small\",s))\n",
    "        id += 1\n",
    "# for p in packages:\n",
    "#     print(p)"
   ]
  },
  {
   "cell_type": "code",
   "execution_count": 51,
   "id": "a7d80a7a",
   "metadata": {},
   "outputs": [],
   "source": [
    "random.shuffle(students)\n",
    "df = pd.DataFrame(columns=['studentID', 'packageID', 'rackTime', 'findTime', 'totalTime'])\n",
    "for s in students:\n",
    "    #make a list of all the packages this student has in the mailroom as of today\n",
    "    student_packages = []\n",
    "    for p in packages:\n",
    "        if(p.getStudent()==s):\n",
    "            student_packages.append(p)\n",
    "    \n",
    "    for student_p in student_packages:\n",
    "        #update the df with how long it took to get the package\n",
    "        df.loc[len(df.index)] = [s.getID(), student_p.getID(), 10, student_p.getLocation(), 10+student_p.getLocation()]\n",
    "        \n",
    "        #remove the package from the bin and adjust location in bin info\n",
    "        # print(all_bins[student_p.getBin()].packages)\n",
    "        bins.get(student_p.getBin().getLabel()).removePackage(student_p)\n",
    "        packages.remove(student_p)\n",
    "\n",
    "        #adjust bin info for packages still in that bin, ONLY IF the package has a higher location_in_bin value than the removed package.\n",
    "        for package in bins.get(student_p.getBin().getLabel()).getPackages():\n",
    "            if student_p.getLocation()<package.getLocation():\n",
    "                package.setLocation(package.getLocation()-1)\n",
    "\n",
    "\n"
   ]
  },
  {
   "cell_type": "code",
   "execution_count": 63,
   "id": "3d455bec",
   "metadata": {},
   "outputs": [
    {
     "name": "stdout",
     "output_type": "stream",
     "text": [
      "      studentID  packageID  rackTime  findTime  totalTime\n",
      "0          1073       1551        10       229        239\n",
      "1          1073       1552        10       229        239\n",
      "2          1546       2266        10       304        314\n",
      "3          1172       1695        10       102        112\n",
      "4          1172       1696        10       102        112\n",
      "...         ...        ...       ...       ...        ...\n",
      "2344        576        819        10        86         96\n",
      "2345         94        134        10       150        160\n",
      "2346         94        135        10       150        160\n",
      "2347       1427       2089        10        86         96\n",
      "2348       1427       2090        10        86         96\n",
      "\n",
      "[2349 rows x 5 columns]\n",
      "Median 126.0\n",
      "Mean 134.84120902511708\n",
      "StDev 67.18204111682537\n"
     ]
    },
    {
     "data": {
      "image/png": "[encoded data removed]",
      "text/plain": [
       "<Figure size 640x480 with 1 Axes>"
      ]
     },
     "metadata": {},
     "output_type": "display_data"
    }
   ],
   "source": [
    "print(df)\n",
    "plot = df[\"totalTime\"].plot(kind = 'hist',bins=15)\n",
    "print(\"Median\",df['totalTime'].median())\n",
    "print(\"Mean\",df['totalTime'].mean())\n",
    "print(\"StDev\",df['totalTime'].std())"
   ]
  }
 ],
 "metadata": {
  "kernelspec": {
   "display_name": "Python 3 (ipykernel)",
   "language": "python",
   "name": "python3"
  },
  "language_info": {
   "codemirror_mode": {
    "name": "ipython",
    "version": 3
   },
   "file_extension": ".py",
   "mimetype": "text/x-python",
   "name": "python",
   "nbconvert_exporter": "python",
   "pygments_lexer": "ipython3",
   "version": "3.11.4"
  }
 },
 "nbformat": 4,
 "nbformat_minor": 5
}
