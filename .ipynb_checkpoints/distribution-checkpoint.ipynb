{
 "cells": [
  {
   "cell_type": "code",
   "execution_count": 134,
   "id": "d423766d-61bb-4384-af4d-2effb474a4fe",
   "metadata": {},
   "outputs": [],
   "source": [
    "import pandas as pd\n",
    "import datetime\n",
    "import seaborn as sns\n",
    "import numpy as np"
   ]
  },
  {
   "cell_type": "code",
   "execution_count": 101,
   "id": "68395a05-d833-4637-80fc-12c7517fda1e",
   "metadata": {},
   "outputs": [
    {
     "name": "stderr",
     "output_type": "stream",
     "text": [
      "C:\\Users\\mkolb\\AppData\\Local\\Temp\\ipykernel_21360\\3120406117.py:5: SettingWithCopyWarning: \n",
      "A value is trying to be set on a copy of a slice from a DataFrame.\n",
      "Try using .loc[row_indexer,col_indexer] = value instead\n",
      "\n",
      "See the caveats in the documentation: https://pandas.pydata.org/pandas-docs/stable/user_guide/indexing.html#returning-a-view-versus-a-copy\n",
      "  parcels_withIssueDate[['Issue Date Only', 'Issue Time Only']] = (parcels_withIssueDate['Issue Date'].str.split(\" \", n=1, expand=True))\n",
      "C:\\Users\\mkolb\\AppData\\Local\\Temp\\ipykernel_21360\\3120406117.py:5: SettingWithCopyWarning: \n",
      "A value is trying to be set on a copy of a slice from a DataFrame.\n",
      "Try using .loc[row_indexer,col_indexer] = value instead\n",
      "\n",
      "See the caveats in the documentation: https://pandas.pydata.org/pandas-docs/stable/user_guide/indexing.html#returning-a-view-versus-a-copy\n",
      "  parcels_withIssueDate[['Issue Date Only', 'Issue Time Only']] = (parcels_withIssueDate['Issue Date'].str.split(\" \", n=1, expand=True))\n",
      "C:\\Users\\mkolb\\AppData\\Local\\Temp\\ipykernel_21360\\3120406117.py:6: SettingWithCopyWarning: \n",
      "A value is trying to be set on a copy of a slice from a DataFrame.\n",
      "Try using .loc[row_indexer,col_indexer] = value instead\n",
      "\n",
      "See the caveats in the documentation: https://pandas.pydata.org/pandas-docs/stable/user_guide/indexing.html#returning-a-view-versus-a-copy\n",
      "  parcels_withIssueDate[['Receipt Date Only', 'Receipt Time Only']] = (parcels_withIssueDate['Receipt Date'].str.split(\" \", n=1, expand=True))\n",
      "C:\\Users\\mkolb\\AppData\\Local\\Temp\\ipykernel_21360\\3120406117.py:6: SettingWithCopyWarning: \n",
      "A value is trying to be set on a copy of a slice from a DataFrame.\n",
      "Try using .loc[row_indexer,col_indexer] = value instead\n",
      "\n",
      "See the caveats in the documentation: https://pandas.pydata.org/pandas-docs/stable/user_guide/indexing.html#returning-a-view-versus-a-copy\n",
      "  parcels_withIssueDate[['Receipt Date Only', 'Receipt Time Only']] = (parcels_withIssueDate['Receipt Date'].str.split(\" \", n=1, expand=True))\n"
     ]
    }
   ],
   "source": [
    "parcels = pd.read_csv('Parcel_Report_June_23_22_10_31_23.csv')\n",
    "parcels = parcels[parcels['Mail Room Description 3'] == 'North Campus Service Center']\n",
    "parcels_withIssueDate = parcels[parcels['Issue Date'].notnull()]\n",
    "\n",
    "parcels_withIssueDate[['Issue Date Only', 'Issue Time Only']] = (parcels_withIssueDate['Issue Date'].str.split(\" \", n=1, expand=True)) \n",
    "parcels_withIssueDate[['Receipt Date Only', 'Receipt Time Only']] = (parcels_withIssueDate['Receipt Date'].str.split(\" \", n=1, expand=True)) "
   ]
  },
  {
   "cell_type": "code",
   "execution_count": 102,
   "id": "c05fe8e3-a6f9-4843-be51-f6006fa1b516",
   "metadata": {},
   "outputs": [
    {
     "name": "stderr",
     "output_type": "stream",
     "text": [
      "C:\\Users\\mkolb\\AppData\\Local\\Temp\\ipykernel_21360\\3081506634.py:4: UserWarning: Could not infer format, so each element will be parsed individually, falling back to `dateutil`. To ensure parsing is consistent and as-expected, please specify a format.\n",
      "  parcels_withIssueDate['Issue Date Only']= pd.to_datetime(parcels_withIssueDate['Issue Date Only'])\n",
      "C:\\Users\\mkolb\\AppData\\Local\\Temp\\ipykernel_21360\\3081506634.py:5: UserWarning: Could not infer format, so each element will be parsed individually, falling back to `dateutil`. To ensure parsing is consistent and as-expected, please specify a format.\n",
      "  parcels_withIssueDate['Receipt Date Only']= pd.to_datetime(parcels_withIssueDate['Receipt Date Only'])\n"
     ]
    }
   ],
   "source": [
    "parcels_withIssueDate = parcels_withIssueDate.drop(columns=['Issue Time Only', 'Receipt Time Only'])\n",
    "# parcels_withIssueDate['Issue Date Only'].to_list()\n",
    "# pd.to_datetime(parcels_withIssueDate['Issue Date Only'], format='%m/%d/%Y')\n",
    "parcels_withIssueDate['Issue Date Only']= pd.to_datetime(parcels_withIssueDate['Issue Date Only'])\n",
    "parcels_withIssueDate['Receipt Date Only']= pd.to_datetime(parcels_withIssueDate['Receipt Date Only'])\n",
    "\n",
    "# remove all packages prior to Aug\n",
    "parcels_withIssueDate = parcels_withIssueDate[parcels_withIssueDate['Receipt Date Only'] > datetime.datetime(2023, 7, 31)]"
   ]
  },
  {
   "cell_type": "code",
   "execution_count": 103,
   "id": "80301060-46a2-40e2-8145-87de20048a4e",
   "metadata": {},
   "outputs": [],
   "source": [
    "parcels_withIssueDate['days_until_pickup'] = parcels_withIssueDate['Issue Date Only'] - parcels_withIssueDate['Receipt Date Only']"
   ]
  },
  {
   "cell_type": "code",
   "execution_count": 146,
   "id": "abba8912-1f7b-4b15-b7fd-4a7218354430",
   "metadata": {},
   "outputs": [],
   "source": [
    "days_until_pickup_counts = parcels_withIssueDate['days_until_pickup'].value_counts()\n",
    "days_until_pickup_counts.index = days_until_pickup_counts.index.astype('timedelta64[s]').astype('int64')/86400"
   ]
  },
  {
   "cell_type": "code",
   "execution_count": 162,
   "id": "a20eabb7-a397-4431-bb7d-123d7acefbd0",
   "metadata": {},
   "outputs": [
    {
     "name": "stdout",
     "output_type": "stream",
     "text": [
      "y= 23088.730500370748 * e^( -0.5422028063676506 *x) + 7.2056578964039675\n"
     ]
    },
    {
     "data": {
      "image/png": "[encoded data removed]",
      "text/plain": [
       "<Figure size 640x480 with 1 Axes>"
      ]
     },
     "metadata": {},
     "output_type": "display_data"
    }
   ],
   "source": [
    "import matplotlib.pyplot as plt\n",
    "\n",
    "fig, ax = plt.subplots()\n",
    "x = days_until_pickup_counts.index\n",
    "y = days_until_pickup_counts.values\n",
    "ax.bar(x, y)\n",
    "ax.set_xlabel('number of days until pickup')\n",
    "ax.set_ylabel('count')\n",
    "\n",
    "\n",
    "from scipy.optimize import curve_fit\n",
    "\n",
    "def exponential_func(x, a, b, c):\n",
    "    return a * np.exp(-b * x) + c\n",
    "\n",
    "# Fit the exponential function to the data\n",
    "popt, pcov = curve_fit(exponential_func, x, y)\n",
    "\n",
    "# Plot the bar chart\n",
    "plt.bar(x, y, label='Data')\n",
    "\n",
    "# Plot the exponential curve\n",
    "x_fit = np.linspace(min(x), max(x), 100)  # Generate x values for the curve\n",
    "plt.plot(x_fit, exponential_func(x_fit, *popt), color='red', label='Exponential Fit')\n",
    "\n",
    "# Extract coefficients\n",
    "a, b, c = popt\n",
    "\n",
    "# Print coefficients\n",
    "# print(\"Coefficient a:\", a)\n",
    "# print(\"Coefficient b:\", b)\n",
    "# print(\"Coefficient c:\", c)\n",
    "print(\"y=\", a, \"* e^(\", -b, \"*x) +\", c)"
   ]
  },
  {
   "cell_type": "code",
   "execution_count": null,
   "id": "ebfebd81-e563-477f-ab00-1e14a9159c33",
   "metadata": {},
   "outputs": [],
   "source": []
  }
 ],
 "metadata": {
  "kernelspec": {
   "display_name": "Python 3 (ipykernel)",
   "language": "python",
   "name": "python3"
  },
  "language_info": {
   "codemirror_mode": {
    "name": "ipython",
    "version": 3
   },
   "file_extension": ".py",
   "mimetype": "text/x-python",
   "name": "python",
   "nbconvert_exporter": "python",
   "pygments_lexer": "ipython3",
   "version": "3.8.18"
  }
 },
 "nbformat": 4,
 "nbformat_minor": 5
}
